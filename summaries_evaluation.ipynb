{
 "cells": [
  {
   "cell_type": "markdown",
   "id": "4183c235-e3ac-4654-bd82-6c2067625860",
   "metadata": {},
   "source": [
    "### Bibliotecas"
   ]
  },
  {
   "cell_type": "code",
   "execution_count": 1,
   "id": "a689b915-c5ac-4e6f-9314-654545e8f081",
   "metadata": {},
   "outputs": [
    {
     "name": "stdout",
     "output_type": "stream",
     "text": [
      "Requirement already satisfied: pingouin in c:\\users\\mariaeduardadealmeid\\anaconda3\\lib\\site-packages (0.5.5)\n",
      "Requirement already satisfied: scipy in c:\\users\\mariaeduardadealmeid\\anaconda3\\lib\\site-packages (1.13.1)\n",
      "Requirement already satisfied: matplotlib in c:\\users\\mariaeduardadealmeid\\anaconda3\\lib\\site-packages (from pingouin) (3.9.2)\n",
      "Requirement already satisfied: numpy in c:\\users\\mariaeduardadealmeid\\anaconda3\\lib\\site-packages (from pingouin) (1.26.4)\n",
      "Requirement already satisfied: pandas>=1.5 in c:\\users\\mariaeduardadealmeid\\anaconda3\\lib\\site-packages (from pingouin) (2.2.2)\n",
      "Requirement already satisfied: pandas-flavor in c:\\users\\mariaeduardadealmeid\\anaconda3\\lib\\site-packages (from pingouin) (0.7.0)\n",
      "Requirement already satisfied: scikit-learn>=1.2 in c:\\users\\mariaeduardadealmeid\\anaconda3\\lib\\site-packages (from pingouin) (1.5.1)\n",
      "Requirement already satisfied: seaborn in c:\\users\\mariaeduardadealmeid\\anaconda3\\lib\\site-packages (from pingouin) (0.13.2)\n",
      "Requirement already satisfied: statsmodels in c:\\users\\mariaeduardadealmeid\\anaconda3\\lib\\site-packages (from pingouin) (0.14.2)\n",
      "Requirement already satisfied: tabulate in c:\\users\\mariaeduardadealmeid\\anaconda3\\lib\\site-packages (from pingouin) (0.9.0)\n",
      "Requirement already satisfied: python-dateutil>=2.8.2 in c:\\users\\mariaeduardadealmeid\\anaconda3\\lib\\site-packages (from pandas>=1.5->pingouin) (2.9.0.post0)\n",
      "Requirement already satisfied: pytz>=2020.1 in c:\\users\\mariaeduardadealmeid\\anaconda3\\lib\\site-packages (from pandas>=1.5->pingouin) (2024.1)\n",
      "Requirement already satisfied: tzdata>=2022.7 in c:\\users\\mariaeduardadealmeid\\anaconda3\\lib\\site-packages (from pandas>=1.5->pingouin) (2023.3)\n",
      "Requirement already satisfied: joblib>=1.2.0 in c:\\users\\mariaeduardadealmeid\\anaconda3\\lib\\site-packages (from scikit-learn>=1.2->pingouin) (1.4.2)\n",
      "Requirement already satisfied: threadpoolctl>=3.1.0 in c:\\users\\mariaeduardadealmeid\\anaconda3\\lib\\site-packages (from scikit-learn>=1.2->pingouin) (3.5.0)\n",
      "Requirement already satisfied: contourpy>=1.0.1 in c:\\users\\mariaeduardadealmeid\\anaconda3\\lib\\site-packages (from matplotlib->pingouin) (1.2.0)\n",
      "Requirement already satisfied: cycler>=0.10 in c:\\users\\mariaeduardadealmeid\\anaconda3\\lib\\site-packages (from matplotlib->pingouin) (0.11.0)\n",
      "Requirement already satisfied: fonttools>=4.22.0 in c:\\users\\mariaeduardadealmeid\\anaconda3\\lib\\site-packages (from matplotlib->pingouin) (4.51.0)\n",
      "Requirement already satisfied: kiwisolver>=1.3.1 in c:\\users\\mariaeduardadealmeid\\anaconda3\\lib\\site-packages (from matplotlib->pingouin) (1.4.4)\n",
      "Requirement already satisfied: packaging>=20.0 in c:\\users\\mariaeduardadealmeid\\anaconda3\\lib\\site-packages (from matplotlib->pingouin) (24.2)\n",
      "Requirement already satisfied: pillow>=8 in c:\\users\\mariaeduardadealmeid\\anaconda3\\lib\\site-packages (from matplotlib->pingouin) (11.1.0)\n",
      "Requirement already satisfied: pyparsing>=2.3.1 in c:\\users\\mariaeduardadealmeid\\anaconda3\\lib\\site-packages (from matplotlib->pingouin) (3.1.2)\n",
      "Requirement already satisfied: xarray in c:\\users\\mariaeduardadealmeid\\anaconda3\\lib\\site-packages (from pandas-flavor->pingouin) (2023.6.0)\n",
      "Requirement already satisfied: patsy>=0.5.6 in c:\\users\\mariaeduardadealmeid\\anaconda3\\lib\\site-packages (from statsmodels->pingouin) (0.5.6)\n",
      "Requirement already satisfied: six in c:\\users\\mariaeduardadealmeid\\anaconda3\\lib\\site-packages (from patsy>=0.5.6->statsmodels->pingouin) (1.16.0)\n"
     ]
    }
   ],
   "source": [
    "import sys\n",
    "!{sys.executable} -m pip install pingouin scipy"
   ]
  },
  {
   "cell_type": "code",
   "execution_count": 2,
   "id": "75e36a32-b4fa-4cd4-a9a1-a3aef5d30b30",
   "metadata": {},
   "outputs": [],
   "source": [
    "import pingouin as pg\n",
    "import pandas as pd\n",
    "from scipy.stats import spearmanr "
   ]
  },
  {
   "cell_type": "markdown",
   "id": "47b8e08f-1e4f-481e-8ea5-3b5288b984cd",
   "metadata": {},
   "source": [
    "## Limpeza e tratamento dos dados"
   ]
  },
  {
   "cell_type": "markdown",
   "id": "ff7762dd-cf62-4ee0-99d1-9b1a42487ab8",
   "metadata": {},
   "source": [
    "#### Captura de dados faltantes"
   ]
  },
  {
   "cell_type": "code",
   "execution_count": 3,
   "id": "6202f5c1-598c-49ca-868e-b55924e10239",
   "metadata": {},
   "outputs": [],
   "source": [
    "df = pd.read_csv(f'summaries_global_evaluation.csv')"
   ]
  },
  {
   "cell_type": "code",
   "execution_count": 4,
   "id": "350a039e-bedb-466b-a922-08377ce2a6ab",
   "metadata": {},
   "outputs": [
    {
     "data": {
      "text/html": [
       "<div>\n",
       "<style scoped>\n",
       "    .dataframe tbody tr th:only-of-type {\n",
       "        vertical-align: middle;\n",
       "    }\n",
       "\n",
       "    .dataframe tbody tr th {\n",
       "        vertical-align: top;\n",
       "    }\n",
       "\n",
       "    .dataframe thead th {\n",
       "        text-align: right;\n",
       "    }\n",
       "</style>\n",
       "<table border=\"1\" class=\"dataframe\">\n",
       "  <thead>\n",
       "    <tr style=\"text-align: right;\">\n",
       "      <th></th>\n",
       "      <th>class_label</th>\n",
       "      <th>text</th>\n",
       "      <th>summary_1</th>\n",
       "      <th>summary_2</th>\n",
       "      <th>alex_openai rating</th>\n",
       "      <th>alex_llama rating</th>\n",
       "      <th>damires_openai rating</th>\n",
       "      <th>damires_llama rating</th>\n",
       "      <th>luana_openai rating</th>\n",
       "      <th>luana_llama rating</th>\n",
       "      <th>ragas_openai_rating</th>\n",
       "      <th>ragas_llama_rating</th>\n",
       "    </tr>\n",
       "  </thead>\n",
       "  <tbody>\n",
       "    <tr>\n",
       "      <th>0</th>\n",
       "      <td>NaN</td>\n",
       "      <td>Vou tentar resumir a história:Eu estava me sen...</td>\n",
       "      <td>Ontem, fui ao barbeiro para aparar a barba, qu...</td>\n",
       "      <td>Eu estava me sentindo bem comigo mesmo até ont...</td>\n",
       "      <td>0,94</td>\n",
       "      <td>0,99</td>\n",
       "      <td>0,9</td>\n",
       "      <td>0,70</td>\n",
       "      <td>0,7</td>\n",
       "      <td>0,50</td>\n",
       "      <td>0,597808604744678</td>\n",
       "      <td>0,610876558102136</td>\n",
       "    </tr>\n",
       "    <tr>\n",
       "      <th>1</th>\n",
       "      <td>NaN</td>\n",
       "      <td>Não sei se esse é o lugar ideal pra postar iss...</td>\n",
       "      <td>Estou me sentindo desesperado e confuso sobre ...</td>\n",
       "      <td>Estou desesperado e confuso. Sempre soube que ...</td>\n",
       "      <td>0,99</td>\n",
       "      <td>0,99</td>\n",
       "      <td>0,9</td>\n",
       "      <td>0,70</td>\n",
       "      <td>0,5</td>\n",
       "      <td>0,60</td>\n",
       "      <td>0,466844286560106</td>\n",
       "      <td>0,588566350710910</td>\n",
       "    </tr>\n",
       "    <tr>\n",
       "      <th>2</th>\n",
       "      <td>NaN</td>\n",
       "      <td>Mini-desabafo, desculpem.Recentemente tenho me...</td>\n",
       "      <td>Recentemente, tenho me sentido completamente s...</td>\n",
       "      <td>Estou me sentindo completamente isolado e desc...</td>\n",
       "      <td>0,98</td>\n",
       "      <td>1</td>\n",
       "      <td>0,7</td>\n",
       "      <td>0,90</td>\n",
       "      <td>0,65</td>\n",
       "      <td>0,80</td>\n",
       "      <td>0,461238223418632</td>\n",
       "      <td>0,421130551817009</td>\n",
       "    </tr>\n",
       "    <tr>\n",
       "      <th>3</th>\n",
       "      <td>NaN</td>\n",
       "      <td>faço 25 daqui 3 meses e nem saio de casa, moro...</td>\n",
       "      <td>Daqui a três meses, faço 25 anos e mal saio de...</td>\n",
       "      <td>Estou prestes a completar 25 anos e sinto que ...</td>\n",
       "      <td>0,98</td>\n",
       "      <td>1</td>\n",
       "      <td>1</td>\n",
       "      <td>0,50</td>\n",
       "      <td>0,75</td>\n",
       "      <td>0,60</td>\n",
       "      <td>0,542845911949726</td>\n",
       "      <td>0,552148846960201</td>\n",
       "    </tr>\n",
       "    <tr>\n",
       "      <th>4</th>\n",
       "      <td>NaN</td>\n",
       "      <td>Olha, eu nn tenho me sentido legal pelo fato s...</td>\n",
       "      <td>Ultimamente, não tenho me sentido bem por ter ...</td>\n",
       "      <td>Eu não me sinto bem comigo mesma porque precis...</td>\n",
       "      <td>0,99</td>\n",
       "      <td>1</td>\n",
       "      <td>0,6</td>\n",
       "      <td>0,90</td>\n",
       "      <td>0,8</td>\n",
       "      <td>0,70</td>\n",
       "      <td>0,580194410692639</td>\n",
       "      <td>0,681265206812690</td>\n",
       "    </tr>\n",
       "    <tr>\n",
       "      <th>5</th>\n",
       "      <td>NaN</td>\n",
       "      <td>Eu sempre me senti muito feio e com habilidade...</td>\n",
       "      <td>Sempre me senti muito feio e com habilidades s...</td>\n",
       "      <td>Eu sempre me senti feio e com habilidades soci...</td>\n",
       "      <td>1</td>\n",
       "      <td>0,5</td>\n",
       "      <td>1</td>\n",
       "      <td>0,00</td>\n",
       "      <td>0,8</td>\n",
       "      <td>0,40</td>\n",
       "      <td>0,483922383922391</td>\n",
       "      <td>0,433166943982258</td>\n",
       "    </tr>\n",
       "    <tr>\n",
       "      <th>6</th>\n",
       "      <td>NaN</td>\n",
       "      <td>Sempre fui uma pessoa ansiosa e com dificuldad...</td>\n",
       "      <td>Sempre fui uma pessoa ansiosa e com dificuldad...</td>\n",
       "      <td>Eu sempre fui uma pessoa ansiosa e com dificul...</td>\n",
       "      <td>0,98</td>\n",
       "      <td>0,97</td>\n",
       "      <td>1</td>\n",
       "      <td>0,50</td>\n",
       "      <td>0,9</td>\n",
       "      <td>0,90</td>\n",
       "      <td>0,667435601691658</td>\n",
       "      <td>0,483852364475203</td>\n",
       "    </tr>\n",
       "    <tr>\n",
       "      <th>7</th>\n",
       "      <td>NaN</td>\n",
       "      <td>Então, sou um homem de 40 anos. Tenho uma espo...</td>\n",
       "      <td>Sou um homem de 40 anos, casado e pai de dois ...</td>\n",
       "      <td>Eu sou um homem de 40 anos, casado e pai de do...</td>\n",
       "      <td>0,92</td>\n",
       "      <td>0,9</td>\n",
       "      <td>NaN</td>\n",
       "      <td>0,30</td>\n",
       "      <td>1</td>\n",
       "      <td>0,90</td>\n",
       "      <td>0,771425772503360</td>\n",
       "      <td>0,740073145245560</td>\n",
       "    </tr>\n",
       "    <tr>\n",
       "      <th>8</th>\n",
       "      <td>NaN</td>\n",
       "      <td>Sempre tive uma mentalidade forte, conseguindo...</td>\n",
       "      <td>Sempre tive uma mentalidade forte e acreditei ...</td>\n",
       "      <td>Eu sempre fui uma pessoa forte e otimista, cap...</td>\n",
       "      <td>0,98</td>\n",
       "      <td>1</td>\n",
       "      <td>0,8</td>\n",
       "      <td>0,70</td>\n",
       "      <td>0,9</td>\n",
       "      <td>0,80</td>\n",
       "      <td>0,432120993878287</td>\n",
       "      <td>0,529227444624528</td>\n",
       "    </tr>\n",
       "    <tr>\n",
       "      <th>9</th>\n",
       "      <td>NaN</td>\n",
       "      <td>Bom pessoal, sou homem, tenho 23 anos, atualme...</td>\n",
       "      <td>Sou um homem de 23 anos, estudante em uma cida...</td>\n",
       "      <td>Eu sou um homem de 23 anos, estudante de facul...</td>\n",
       "      <td>1</td>\n",
       "      <td>1</td>\n",
       "      <td>0,8</td>\n",
       "      <td>0,70</td>\n",
       "      <td>0,85</td>\n",
       "      <td>0,90</td>\n",
       "      <td>0,505242463958065</td>\n",
       "      <td>0,444007572447943</td>\n",
       "    </tr>\n",
       "  </tbody>\n",
       "</table>\n",
       "</div>"
      ],
      "text/plain": [
       "   class_label                                               text  \\\n",
       "0          NaN  Vou tentar resumir a história:Eu estava me sen...   \n",
       "1          NaN  Não sei se esse é o lugar ideal pra postar iss...   \n",
       "2          NaN  Mini-desabafo, desculpem.Recentemente tenho me...   \n",
       "3          NaN  faço 25 daqui 3 meses e nem saio de casa, moro...   \n",
       "4          NaN  Olha, eu nn tenho me sentido legal pelo fato s...   \n",
       "5          NaN  Eu sempre me senti muito feio e com habilidade...   \n",
       "6          NaN  Sempre fui uma pessoa ansiosa e com dificuldad...   \n",
       "7          NaN  Então, sou um homem de 40 anos. Tenho uma espo...   \n",
       "8          NaN  Sempre tive uma mentalidade forte, conseguindo...   \n",
       "9          NaN  Bom pessoal, sou homem, tenho 23 anos, atualme...   \n",
       "\n",
       "                                           summary_1  \\\n",
       "0  Ontem, fui ao barbeiro para aparar a barba, qu...   \n",
       "1  Estou me sentindo desesperado e confuso sobre ...   \n",
       "2  Recentemente, tenho me sentido completamente s...   \n",
       "3  Daqui a três meses, faço 25 anos e mal saio de...   \n",
       "4  Ultimamente, não tenho me sentido bem por ter ...   \n",
       "5  Sempre me senti muito feio e com habilidades s...   \n",
       "6  Sempre fui uma pessoa ansiosa e com dificuldad...   \n",
       "7  Sou um homem de 40 anos, casado e pai de dois ...   \n",
       "8  Sempre tive uma mentalidade forte e acreditei ...   \n",
       "9  Sou um homem de 23 anos, estudante em uma cida...   \n",
       "\n",
       "                                           summary_2 alex_openai rating  \\\n",
       "0  Eu estava me sentindo bem comigo mesmo até ont...               0,94   \n",
       "1  Estou desesperado e confuso. Sempre soube que ...               0,99   \n",
       "2  Estou me sentindo completamente isolado e desc...               0,98   \n",
       "3  Estou prestes a completar 25 anos e sinto que ...               0,98   \n",
       "4  Eu não me sinto bem comigo mesma porque precis...               0,99   \n",
       "5  Eu sempre me senti feio e com habilidades soci...                  1   \n",
       "6  Eu sempre fui uma pessoa ansiosa e com dificul...               0,98   \n",
       "7  Eu sou um homem de 40 anos, casado e pai de do...               0,92   \n",
       "8  Eu sempre fui uma pessoa forte e otimista, cap...               0,98   \n",
       "9  Eu sou um homem de 23 anos, estudante de facul...                  1   \n",
       "\n",
       "  alex_llama rating damires_openai rating damires_llama rating  \\\n",
       "0              0,99                   0,9                 0,70   \n",
       "1              0,99                   0,9                 0,70   \n",
       "2                 1                   0,7                 0,90   \n",
       "3                 1                     1                 0,50   \n",
       "4                 1                   0,6                 0,90   \n",
       "5               0,5                     1                 0,00   \n",
       "6              0,97                     1                 0,50   \n",
       "7               0,9                   NaN                 0,30   \n",
       "8                 1                   0,8                 0,70   \n",
       "9                 1                   0,8                 0,70   \n",
       "\n",
       "  luana_openai rating luana_llama rating ragas_openai_rating  \\\n",
       "0                 0,7               0,50   0,597808604744678   \n",
       "1                 0,5               0,60   0,466844286560106   \n",
       "2                0,65               0,80   0,461238223418632   \n",
       "3                0,75               0,60   0,542845911949726   \n",
       "4                 0,8               0,70   0,580194410692639   \n",
       "5                 0,8               0,40   0,483922383922391   \n",
       "6                 0,9               0,90   0,667435601691658   \n",
       "7                   1               0,90   0,771425772503360   \n",
       "8                 0,9               0,80   0,432120993878287   \n",
       "9                0,85               0,90   0,505242463958065   \n",
       "\n",
       "  ragas_llama_rating  \n",
       "0  0,610876558102136  \n",
       "1  0,588566350710910  \n",
       "2  0,421130551817009  \n",
       "3  0,552148846960201  \n",
       "4  0,681265206812690  \n",
       "5  0,433166943982258  \n",
       "6  0,483852364475203  \n",
       "7  0,740073145245560  \n",
       "8  0,529227444624528  \n",
       "9  0,444007572447943  "
      ]
     },
     "execution_count": 4,
     "metadata": {},
     "output_type": "execute_result"
    }
   ],
   "source": [
    "df.head(10)"
   ]
  },
  {
   "cell_type": "code",
   "execution_count": 5,
   "id": "f0552f11-72a3-49d9-a46b-bdb8950d8578",
   "metadata": {},
   "outputs": [
    {
     "data": {
      "text/plain": [
       "Index(['class_label', 'text', 'summary_1', 'summary_2', 'alex_openai_rating',\n",
       "       'alex_llama_rating', 'damires_openai_rating', 'damires_llama_rating',\n",
       "       'luana_openai_rating', 'luana_llama_rating', 'ragas_openai_rating',\n",
       "       'ragas_llama_rating'],\n",
       "      dtype='object')"
      ]
     },
     "execution_count": 5,
     "metadata": {},
     "output_type": "execute_result"
    }
   ],
   "source": [
    "# padronizar as colunas\n",
    "df.columns = df.columns.str.replace(' ', '_')\n",
    "\n",
    "df.columns"
   ]
  },
  {
   "cell_type": "code",
   "execution_count": 6,
   "id": "b15c53b1-3362-4f49-a4ca-2e4e8910ea40",
   "metadata": {},
   "outputs": [],
   "source": [
    "rating_cols = [col for col in df.columns if col.endswith('rating')]\n",
    "\n",
    "for col in rating_cols:\n",
    "    df[col] = df[col].str.replace(',', '.', regex=False).astype(float)"
   ]
  },
  {
   "cell_type": "code",
   "execution_count": 7,
   "id": "bfecedf8-cd1a-44f8-b2bd-e2130caafa11",
   "metadata": {},
   "outputs": [
    {
     "data": {
      "text/plain": [
       "class_label              12\n",
       "text                      0\n",
       "summary_1                 0\n",
       "summary_2                 0\n",
       "alex_openai_rating        0\n",
       "alex_llama_rating         0\n",
       "damires_openai_rating     1\n",
       "damires_llama_rating      0\n",
       "luana_openai_rating       0\n",
       "luana_llama_rating        0\n",
       "ragas_openai_rating       0\n",
       "ragas_llama_rating        0\n",
       "dtype: int64"
      ]
     },
     "execution_count": 7,
     "metadata": {},
     "output_type": "execute_result"
    }
   ],
   "source": [
    "df.isnull().sum()"
   ]
  },
  {
   "cell_type": "markdown",
   "id": "1be59b1c-5f49-444a-afe4-ca7858d6943f",
   "metadata": {},
   "source": [
    "#### Remoção da observação"
   ]
  },
  {
   "cell_type": "code",
   "execution_count": 8,
   "id": "cec3dd92-8c17-4008-a2ef-6d7ffb5a8564",
   "metadata": {},
   "outputs": [],
   "source": [
    "df_without_class_label = df.drop(columns='class_label')\n",
    "df_without_na = df_without_class_label.dropna()"
   ]
  },
  {
   "cell_type": "code",
   "execution_count": 9,
   "id": "10acb767-ab52-4721-ab7e-01d104db7275",
   "metadata": {},
   "outputs": [
    {
     "data": {
      "text/plain": [
       "text                     0\n",
       "summary_1                0\n",
       "summary_2                0\n",
       "alex_openai_rating       0\n",
       "alex_llama_rating        0\n",
       "damires_openai_rating    0\n",
       "damires_llama_rating     0\n",
       "luana_openai_rating      0\n",
       "luana_llama_rating       0\n",
       "ragas_openai_rating      0\n",
       "ragas_llama_rating       0\n",
       "dtype: int64"
      ]
     },
     "execution_count": 9,
     "metadata": {},
     "output_type": "execute_result"
    }
   ],
   "source": [
    "df_without_na.isnull().sum()"
   ]
  },
  {
   "cell_type": "markdown",
   "id": "a9f21bdf-f045-4412-b3f9-865592d99e10",
   "metadata": {},
   "source": [
    "### Divisão dos datasets por resumo"
   ]
  },
  {
   "cell_type": "code",
   "execution_count": null,
   "id": "bf2233c1-8bd1-4d0b-833f-8e773992f4d0",
   "metadata": {},
   "outputs": [],
   "source": [
    "SOURCE_CSV   = \"data/summaries_evaluation.csv\"      \n",
    "OUT_OPENAI   = \"outputs/summaries_openai.csv\"\n",
    "OUT_LLAMA    = \"outputs/summaries_llama.csv\"\n",
    "\n",
    "BASE_COL     = \"text\"                    \n",
    "OPENAI_COLS  = [\n",
    "    \"summary_openai\",\n",
    "    \"h1_openai_rating\",\n",
    "    \"h2_openai_rating\",\n",
    "    \"h3_openai_rating\",\n",
    "    \"ragas_openai_rating\",\n",
    "]\n",
    "LLAMA_COLS   = [\n",
    "    \"summary_llama\",\n",
    "    \"h1_llama_rating\",\n",
    "    \"h2_llama_rating\",\n",
    "    \"h3_llama_rating\",\n",
    "    \"ragas_llama_rating\",\n",
    "]\n"
   ]
  },
  {
   "cell_type": "code",
   "execution_count": 11,
   "id": "6d587ba7-1c63-40a0-8039-ad4758d4a3d4",
   "metadata": {},
   "outputs": [
    {
     "ename": "KeyError",
     "evalue": "\"['summary_openai', 'h1_openai_rating', 'h2_openai_rating', 'h3_openai_rating'] not in index\"",
     "output_type": "error",
     "traceback": [
      "\u001b[1;31m---------------------------------------------------------------------------\u001b[0m",
      "\u001b[1;31mKeyError\u001b[0m                                  Traceback (most recent call last)",
      "Cell \u001b[1;32mIn[11], line 1\u001b[0m\n\u001b[1;32m----> 1\u001b[0m df_openai \u001b[38;5;241m=\u001b[39m df_without_na[[BASE_COL] \u001b[38;5;241m+\u001b[39m OPENAI_COLS]\u001b[38;5;241m.\u001b[39mcopy()\n\u001b[0;32m      2\u001b[0m df_llama  \u001b[38;5;241m=\u001b[39m df_without_na[[BASE_COL] \u001b[38;5;241m+\u001b[39m LLAMA_COLS]\u001b[38;5;241m.\u001b[39mcopy()\n",
      "File \u001b[1;32m~\\anaconda3\\Lib\\site-packages\\pandas\\core\\frame.py:4108\u001b[0m, in \u001b[0;36mDataFrame.__getitem__\u001b[1;34m(self, key)\u001b[0m\n\u001b[0;32m   4106\u001b[0m     \u001b[38;5;28;01mif\u001b[39;00m is_iterator(key):\n\u001b[0;32m   4107\u001b[0m         key \u001b[38;5;241m=\u001b[39m \u001b[38;5;28mlist\u001b[39m(key)\n\u001b[1;32m-> 4108\u001b[0m     indexer \u001b[38;5;241m=\u001b[39m \u001b[38;5;28mself\u001b[39m\u001b[38;5;241m.\u001b[39mcolumns\u001b[38;5;241m.\u001b[39m_get_indexer_strict(key, \u001b[38;5;124m\"\u001b[39m\u001b[38;5;124mcolumns\u001b[39m\u001b[38;5;124m\"\u001b[39m)[\u001b[38;5;241m1\u001b[39m]\n\u001b[0;32m   4110\u001b[0m \u001b[38;5;66;03m# take() does not accept boolean indexers\u001b[39;00m\n\u001b[0;32m   4111\u001b[0m \u001b[38;5;28;01mif\u001b[39;00m \u001b[38;5;28mgetattr\u001b[39m(indexer, \u001b[38;5;124m\"\u001b[39m\u001b[38;5;124mdtype\u001b[39m\u001b[38;5;124m\"\u001b[39m, \u001b[38;5;28;01mNone\u001b[39;00m) \u001b[38;5;241m==\u001b[39m \u001b[38;5;28mbool\u001b[39m:\n",
      "File \u001b[1;32m~\\anaconda3\\Lib\\site-packages\\pandas\\core\\indexes\\base.py:6200\u001b[0m, in \u001b[0;36mIndex._get_indexer_strict\u001b[1;34m(self, key, axis_name)\u001b[0m\n\u001b[0;32m   6197\u001b[0m \u001b[38;5;28;01melse\u001b[39;00m:\n\u001b[0;32m   6198\u001b[0m     keyarr, indexer, new_indexer \u001b[38;5;241m=\u001b[39m \u001b[38;5;28mself\u001b[39m\u001b[38;5;241m.\u001b[39m_reindex_non_unique(keyarr)\n\u001b[1;32m-> 6200\u001b[0m \u001b[38;5;28mself\u001b[39m\u001b[38;5;241m.\u001b[39m_raise_if_missing(keyarr, indexer, axis_name)\n\u001b[0;32m   6202\u001b[0m keyarr \u001b[38;5;241m=\u001b[39m \u001b[38;5;28mself\u001b[39m\u001b[38;5;241m.\u001b[39mtake(indexer)\n\u001b[0;32m   6203\u001b[0m \u001b[38;5;28;01mif\u001b[39;00m \u001b[38;5;28misinstance\u001b[39m(key, Index):\n\u001b[0;32m   6204\u001b[0m     \u001b[38;5;66;03m# GH 42790 - Preserve name from an Index\u001b[39;00m\n",
      "File \u001b[1;32m~\\anaconda3\\Lib\\site-packages\\pandas\\core\\indexes\\base.py:6252\u001b[0m, in \u001b[0;36mIndex._raise_if_missing\u001b[1;34m(self, key, indexer, axis_name)\u001b[0m\n\u001b[0;32m   6249\u001b[0m     \u001b[38;5;28;01mraise\u001b[39;00m \u001b[38;5;167;01mKeyError\u001b[39;00m(\u001b[38;5;124mf\u001b[39m\u001b[38;5;124m\"\u001b[39m\u001b[38;5;124mNone of [\u001b[39m\u001b[38;5;132;01m{\u001b[39;00mkey\u001b[38;5;132;01m}\u001b[39;00m\u001b[38;5;124m] are in the [\u001b[39m\u001b[38;5;132;01m{\u001b[39;00maxis_name\u001b[38;5;132;01m}\u001b[39;00m\u001b[38;5;124m]\u001b[39m\u001b[38;5;124m\"\u001b[39m)\n\u001b[0;32m   6251\u001b[0m not_found \u001b[38;5;241m=\u001b[39m \u001b[38;5;28mlist\u001b[39m(ensure_index(key)[missing_mask\u001b[38;5;241m.\u001b[39mnonzero()[\u001b[38;5;241m0\u001b[39m]]\u001b[38;5;241m.\u001b[39munique())\n\u001b[1;32m-> 6252\u001b[0m \u001b[38;5;28;01mraise\u001b[39;00m \u001b[38;5;167;01mKeyError\u001b[39;00m(\u001b[38;5;124mf\u001b[39m\u001b[38;5;124m\"\u001b[39m\u001b[38;5;132;01m{\u001b[39;00mnot_found\u001b[38;5;132;01m}\u001b[39;00m\u001b[38;5;124m not in index\u001b[39m\u001b[38;5;124m\"\u001b[39m)\n",
      "\u001b[1;31mKeyError\u001b[0m: \"['summary_openai', 'h1_openai_rating', 'h2_openai_rating', 'h3_openai_rating'] not in index\""
     ]
    }
   ],
   "source": [
    "df_openai = df_without_na[[BASE_COL] + OPENAI_COLS].copy()\n",
    "df_llama  = df_without_na[[BASE_COL] + LLAMA_COLS].copy()"
   ]
  },
  {
   "cell_type": "code",
   "execution_count": null,
   "id": "22abc763-161c-4164-94d2-a319a4ba1a1c",
   "metadata": {},
   "outputs": [],
   "source": [
    "df_openai.to_csv(OUT_OPENAI, index=False)\n",
    "df_llama.to_csv(OUT_LLAMA,  index=False)"
   ]
  },
  {
   "cell_type": "markdown",
   "id": "2db2c068-5f54-4c96-8fcd-3762a4124899",
   "metadata": {},
   "source": [
    "## Cálculo da pontuação para cada resumo"
   ]
  },
  {
   "cell_type": "markdown",
   "id": "4807935b-7f7a-460c-9f14-0106e9fb3099",
   "metadata": {},
   "source": [
    "### Cálculo da confiabilidade entre avaliadores humanos"
   ]
  },
  {
   "cell_type": "markdown",
   "id": "38d31bbf-8fcc-4503-b771-ae1930d7d4a3",
   "metadata": {},
   "source": [
    "#### Coeficiente de correlação intraclasse (ICC)\n",
    "\n",
    "Definição:\n",
    "\n",
    "O ICC (3,k) mede a consistência média das avaliações quando k avaliadores fixos atribuem notas ao mesmo conjunto de itens. É um modelo de efeitos mistos (dois fatores).\n",
    "\n",
    "Justificativa técnica:\n",
    "\n",
    "- Avaliar a confiabilidade é necessário antes de qualquer agregação; sem concordância mínima, a média das notas pode ser enganosa.\n",
    "- O modelo 3,k é indicado quando todos os avaliadores julgam todos os itens e interessam apenas esses avaliadores específicos.\n",
    "\n",
    "Referências:\n",
    "\n",
    "`Koo TK, Li MY (2016) A guideline of selecting and reporting intraclass correlation coefficients for reliability research. Journal of Chiropractic Medicine 15(2). DOI: 10.1016/j.jcm.2016.02.012`\n",
    "\n",
    "https://pmc.ncbi.nlm.nih.gov/articles/PMC4913118/"
   ]
  },
  {
   "cell_type": "code",
   "execution_count": null,
   "id": "2e47c5a3-ced8-49be-a06d-269f02ee16e0",
   "metadata": {},
   "outputs": [],
   "source": [
    "RATING_OPENAI = ['h1_openai_rating', 'h2_openai_rating', 'h3_openai_rating']\n",
    "RATING_LLAMA  = ['h1_llama_rating' , 'h2_llama_rating', 'h3_llama_rating']"
   ]
  },
  {
   "cell_type": "code",
   "execution_count": null,
   "id": "c76d4617-2846-495a-95aa-d0e7645c5e26",
   "metadata": {},
   "outputs": [],
   "source": [
    "def icc3k_from_frame(df_subset, rating_cols, id_col='index'):\n",
    "    df_long = (df_subset\n",
    "               .reset_index()  \n",
    "               .melt(id_vars=id_col, value_vars=rating_cols,\n",
    "                     var_name='rater', value_name='rating'))\n",
    "    tbl = pg.intraclass_corr(\n",
    "        data=df_long,\n",
    "        targets=id_col,\n",
    "        raters='rater',\n",
    "        ratings='rating'\n",
    "    )\n",
    "    return tbl.loc[tbl['Type']=='ICC3k','ICC'].iat[0]"
   ]
  },
  {
   "cell_type": "code",
   "execution_count": null,
   "id": "acc4c7b5-31d5-4bfc-9d5f-59d673535de6",
   "metadata": {},
   "outputs": [],
   "source": [
    "# ---- ICC for OpenAI summaries ----\n",
    "icc_openai = icc3k_from_frame(df_openai[RATING_OPENAI], RATING_OPENAI)\n",
    "print(f'ICC(3,k)  –  OpenAI: {icc_openai:.3f}')\n",
    "\n",
    "# ---- ICC for LLaMA summaries ----\n",
    "icc_llama  = icc3k_from_frame(df_llama[RATING_LLAMA], RATING_LLAMA)\n",
    "print(f'ICC(3,k)  –  LLaMA : {icc_llama:.3f}')"
   ]
  },
  {
   "cell_type": "markdown",
   "id": "5ac129f8-46f8-4152-9b1b-6203a4b0d8a1",
   "metadata": {
    "jp-MarkdownHeadingCollapsed": true
   },
   "source": [
    "#### Conclusão\n",
    "\n",
    "- OpenAI:\n",
    "\n",
    "Valores negativos (ou muito próximos de 0) indicam que a variância entre avaliadores é maior que a variância entre resumos ⇒ praticamente não há consenso – e, pior, alguma nota de um avaliador anda na direção oposta à de outro.\n",
    "\n",
    "Segundo Koo & Li (2016), qualquer ICC < 0,50 já é “pobre”; negativo indica desconformidade sistemática ou problemas de dados (transposição de colunas, escalas invertidas, etc.).\n",
    "\n",
    "- LLaMA:\n",
    "\n",
    "Isso cai na faixa “moderada” (0,50 – 0,75) segundo Koo & Li (2016). Quando a consistência é moderada, tratamos os avaliadores como úteis, mas não totalmente intercambiáveis. O próximo passo é gerar uma nota humana robusta (H_bar) que reduza a influência de quem estiver menos alinhado aos pares."
   ]
  },
  {
   "cell_type": "markdown",
   "id": "5b562d19-91c5-48b2-8340-af03b4d90836",
   "metadata": {},
   "source": [
    "### Solução para confiabilidade moderada (LLaMA)"
   ]
  },
  {
   "cell_type": "markdown",
   "id": "927cefdb-7029-4bd9-9408-f80644f9a3fa",
   "metadata": {},
   "source": [
    "#### Pesar cada avaliador pela sua correlação com os demais\n",
    "\n",
    "##### Correlação de Postos de Spearman (ρ)\n",
    "\n",
    "Definição:\n",
    "\n",
    "Coeficiente não paramétrico que mede a força e o sentido de uma relação monotônica entre duas variáveis. Em vez de usar os valores brutos, converte-os em posições (ranks); assim, ρ varia de –1 (associação monotônica negativa perfeita) a +1 (positiva perfeita), sem exigir que a relação seja linear ou que os dados sigam distribuição normal.\n",
    "\n",
    "Justificativa técnica:\n",
    "\n",
    "- Ao trabalhar apenas com as ordens dos dados, o ρ dispensa suposições de normalidade, é menos sensível a outliers e mantém controle adequado do erro tipo mesmo em amostras pequenas. \n",
    "- Avaliações recentes de modelos de linguagem mostram que ρ é a métrica de correlação preferida para ligar métricas automáticas a julgamentos humanos, por capturar coerentemente diferenças de ranking mesmo quando a relação não é estritamente linear.\n",
    "\n",
    "Referências:\n",
    "\n",
    "`Schaeffer R, Koura PS, Tang B, et al. (2024) Correlating and Predicting Human Evaluations of Language Models from NLP Benchmarks. ICLR 2025 Proceedings (in press). ` URL: https://openreview.net/forum?id=52Idqv2FNY"
   ]
  },
  {
   "cell_type": "code",
   "execution_count": null,
   "id": "538de098-0943-4a61-bdaa-4cbf22c8b34c",
   "metadata": {},
   "outputs": [],
   "source": [
    "import numpy as np\n",
    "weights = []\n",
    "\n",
    "for col in RATING_LLAMA:\n",
    "    others = df_llama[[c for c in RATING_LLAMA if c != col]].mean(axis=1)\n",
    "    r, _   = spearmanr(df_llama[col], others)\n",
    "    weights.append(max(r, 0))\n",
    "w = np.array(weights)\n",
    "print(dict(zip(RATING_LLAMA, w.round(3))))"
   ]
  },
  {
   "cell_type": "markdown",
   "id": "7bce8314-cb86-4d4a-b937-502dc24f8c54",
   "metadata": {},
   "source": [
    "dá mais voz a quem costuma concordar com a “média do grupo”; quem diverge muito recebe peso menor (ou zero, se r ≤ 0)."
   ]
  },
  {
   "attachments": {
    "1b7fb086-2f80-4725-b490-a5116e506180.png": {
     "image/png": "[encoded data removed]"
    }
   },
   "cell_type": "markdown",
   "id": "02f07ae3-72b4-4b24-94c5-3bf47a7c4298",
   "metadata": {},
   "source": [
    "##### Média ponderada das avaliações humanas\n",
    "\n",
    "Definição:\n",
    "\n",
    "Índice obtido por ![image.png](attachment:1b7fb086-2f80-4725-b490-a5116e506180.png), onde Xi é a nota do avaliador e Wi o peso de confiabilidade.\n",
    "\n",
    "Justificativa técnica:\n",
    "\n",
    "- A média ponderada minimiza o erro quadrático quando os pesos refletem precisão, sendo prática consagrada em construção de indicadores compostos. \n",
    "- Ao usar apenas correlações positivas, preserva-se a interpretação como “consenso confiável” sem penalizar excessivamente avaliadores discordantes.\n",
    "\n",
    "Referências:\n",
    "\n",
    "`Ocean N (2023) Weighting ratings: are people adjusting for bias in extreme reviews? Journal of Consumer Research. ` URL: https://wrap.warwick.ac.uk/177481"
   ]
  },
  {
   "cell_type": "code",
   "execution_count": null,
   "id": "f4b56627-cb6b-4b94-9973-f80acb6a6197",
   "metadata": {},
   "outputs": [],
   "source": [
    "df_llama['H_bar'] = (df_llama[RATING_LLAMA] * w).sum(axis=1) / w.sum()"
   ]
  },
  {
   "cell_type": "code",
   "execution_count": null,
   "id": "e9fb0522-3cf1-4fad-ba8d-a7cffe64367c",
   "metadata": {},
   "outputs": [],
   "source": [
    "df_llama.head(10)"
   ]
  },
  {
   "cell_type": "markdown",
   "id": "80f2a8a6-4794-4166-98ba-b02e2dc9e36f",
   "metadata": {},
   "source": [
    "#### Calcular a correlação com a métrica automática (RAGAS)"
   ]
  },
  {
   "cell_type": "code",
   "execution_count": null,
   "id": "b4fdd546-e0fd-4712-b136-e0fa5d812aa5",
   "metadata": {},
   "outputs": [],
   "source": [
    "rho, p = spearmanr(df_llama['H_bar'], df_llama['ragas_llama_rating'])\n",
    "print(f\"Spearman ρ = {rho:.3f}  (p = {p:.4f})\")"
   ]
  },
  {
   "cell_type": "markdown",
   "id": "92c12402-4603-4db3-bb62-cbc627519568",
   "metadata": {},
   "source": [
    "#### Definir o peso da métrica automática\n",
    "\n",
    "Definição:\n",
    "\n",
    "Para cada avaliador i, estima-se `wᵢ = max(ρᵢ, 0)`, onde ρᵢ é a correlação de Spearman entre as notas desse avaliador e a média dos demais, zerando correlações negativas.\n",
    "\n",
    "Justificativa técnica:\n",
    "\n",
    "- Correlacionar cada avaliador ao consenso é um proxy simples de acurácia; atribuir peso proporcional reduz a influência de avaliadores inconsistentes. \n",
    "- Métodos de agregação ponderada baseados na acurácia do “ranker” mostraram melhora na estabilidade de rankings e na redução de viés.\n",
    "\n",
    "Referências:\n",
    "\n",
    "Ocean N (2023) Weighting ratings: are people adjusting for bias in extreme reviews? Journal of Consumer Research. URL: https://wrap.warwick.ac.uk/177481\n"
   ]
  },
  {
   "cell_type": "code",
   "execution_count": null,
   "id": "7bf072de-e083-40c9-81e3-394e05cec336",
   "metadata": {},
   "outputs": [],
   "source": [
    "w_A = min(max(rho, 0), 0.30)\n",
    "w_A"
   ]
  },
  {
   "cell_type": "markdown",
   "id": "efb63849-2ec0-444b-b586-617ff2d34f51",
   "metadata": {},
   "source": [
    "Como a referência humana é moderadamente confiável, limitar w_A a, digamos, ≤ 0,30 continua uma boa prática "
   ]
  },
  {
   "attachments": {
    "e5bc2273-4281-4719-afdd-b7aa584911dd.png": {
     "image/png": "[encoded data removed]"
    }
   },
   "cell_type": "markdown",
   "id": "f96bc055-3377-4cba-bb5b-986b25056ac0",
   "metadata": {},
   "source": [
    "#### Score Composto (H + RAGAS)\n",
    "\n",
    "![image.png](attachment:e5bc2273-4281-4719-afdd-b7aa584911dd.png)\n",
    "\n",
    "Combina a avaliação humana (H) com a métrica automática RAGAS, limitando a influência da métrica a 30 %.\n",
    "\n",
    "Justificativa técnica:\n",
    "\n",
    "- Combina o baixo custo e a reprodutibilidade das métricas automáticas ao rigor qualitativo de avaliações humanas, uma tendência em avaliações de LLMs para reduzir vieses de cada fonte isoladamente. \n",
    "- Abordagens “LLM-as-Judge” recentes demonstram que ponderações calibradas alcançam correlação com humanos comparável ao próprio acordo interavaliador, validando a adoção de pesos modestos.\n",
    "\n",
    "Referências:\n",
    "\n",
    "`Zhou X et al. (2025) An LLM-as-Judge metric for bridging the gap with human evaluation in software-engineering tasks. arXiv:2505.20854`"
   ]
  },
  {
   "cell_type": "code",
   "execution_count": null,
   "id": "62d7347b-3d41-466d-9f3d-8188f46683c0",
   "metadata": {},
   "outputs": [],
   "source": [
    "df_llama['Score'] = (df_llama['H_bar'] + w_A*df_llama['ragas_llama_rating']) / (1 + w_A)"
   ]
  },
  {
   "cell_type": "code",
   "execution_count": null,
   "id": "f7c7c579-ace6-407f-9c04-00e5ae0a7ddc",
   "metadata": {},
   "outputs": [],
   "source": [
    "df_llama.head(10)"
   ]
  },
  {
   "cell_type": "code",
   "execution_count": null,
   "id": "b0e2c8ba-f8f6-406d-aa38-86785377a946",
   "metadata": {},
   "outputs": [],
   "source": [
    "df_llama.to_csv(f'llama_results.csv')"
   ]
  },
  {
   "cell_type": "markdown",
   "id": "cbfce291-844f-43bf-9214-e12048532ea3",
   "metadata": {},
   "source": [
    "### Solução para avaliadores muito díspares (OpenAI)"
   ]
  },
  {
   "cell_type": "markdown",
   "id": "55c04543-51e1-4f45-aa72-09f8c1f46e50",
   "metadata": {},
   "source": [
    "#### H₍rob₎ – Mediana Robusta das Avaliações\n",
    "\n",
    "Definição:\n",
    "Mediana das notas humanas, escolhida por seu ponto de ruptura de 50 %, o que a torna resistente a outliers e notas aberrantes.\n",
    "\n",
    "Justificativa técnica:\n",
    "\n",
    "- A mediana mantém-se estável mesmo com até metade de observações contaminadas, recomendada quando há suspeita de avaliadores extremos. \n",
    "- A mediana é o “fallback” quando ICC<0.4\n",
    "\n",
    "Referências:\n",
    "https://pmc.ncbi.nlm.nih.gov/articles/PMC7875178/\n",
    "https://pareto.ai/blog/inter-rater-reliability"
   ]
  },
  {
   "cell_type": "code",
   "execution_count": null,
   "id": "db89f5fb-5f31-45b1-a3fc-a1338b6c00e5",
   "metadata": {},
   "outputs": [],
   "source": [
    "df_openai['H_rob'] = df_openai[RATING_OPENAI].median(axis=1)"
   ]
  },
  {
   "cell_type": "code",
   "execution_count": null,
   "id": "f95ea971-df54-425f-9151-158bcd0fdae9",
   "metadata": {},
   "outputs": [],
   "source": [
    "df_openai['H_rob']"
   ]
  },
  {
   "cell_type": "markdown",
   "id": "3043c826-e492-4546-ba3c-d0448a523f93",
   "metadata": {},
   "source": [
    "#### Calcula a correlação com o Ragas"
   ]
  },
  {
   "cell_type": "code",
   "execution_count": null,
   "id": "747df153-3ffe-4756-a3c4-d8ad7ba5631e",
   "metadata": {},
   "outputs": [],
   "source": [
    "rho, p = spearmanr(df_openai['H_rob'], df_openai['ragas_openai_rating'])\n",
    "print(f\"ρ={rho:.3f}, p={p:.4f}\")"
   ]
  },
  {
   "cell_type": "code",
   "execution_count": null,
   "id": "c2f84c28-c3e8-4dfc-8cf0-2f02c1e5b074",
   "metadata": {},
   "outputs": [],
   "source": [
    "    # 0,3 (teto prático recomendado quando a referência humana é ruidosa).\n",
    "w_A = min(max(rho, 0), 0.30)"
   ]
  },
  {
   "attachments": {
    "e503b1e8-2efa-445c-a58e-72563b89bce5.png": {
     "image/png": "[encoded data removed]"
    }
   },
   "cell_type": "markdown",
   "id": "3d34e7dc-2d32-4328-a490-f119c94d5fe9",
   "metadata": {},
   "source": [
    "#### Pontuação composta por resumo\n",
    "\n",
    "![image.png](attachment:e503b1e8-2efa-445c-a58e-72563b89bce5.png)\n",
    "\n",
    "Combina a avaliação humana (H) com a métrica automática RAGAS, limitando a influência da métrica a 30 %.\n",
    "\n",
    "Justificativa técnica:\n",
    "\n",
    "- Combina o baixo custo e a reprodutibilidade das métricas automáticas ao rigor qualitativo de avaliações humanas, uma tendência em avaliações de LLMs para reduzir vieses de cada fonte isoladamente. \n",
    "- Abordagens “LLM-as-Judge” recentes demonstram que ponderações calibradas alcançam correlação com humanos comparável ao próprio acordo interavaliador, validando a adoção de pesos modestos.\n",
    "\n",
    "Referências:\n",
    "\n",
    "`Zhou X et al. (2025) An LLM-as-Judge metric for bridging the gap with human evaluation in software-engineering tasks. ` URL: https://arxiv.org/abs/2505.20854"
   ]
  },
  {
   "cell_type": "code",
   "execution_count": null,
   "id": "c61a968c-bc51-4fe7-b84a-91cf204d3aa9",
   "metadata": {},
   "outputs": [],
   "source": [
    "df_openai['Score'] = (df_openai['H_rob'] + w_A * df_openai['ragas_openai_rating']) / (1 + w_A)\n"
   ]
  },
  {
   "cell_type": "code",
   "execution_count": null,
   "id": "d048f4d8-2468-441c-bc1f-98e4504e2af6",
   "metadata": {},
   "outputs": [],
   "source": [
    "df_openai.head(10)"
   ]
  },
  {
   "cell_type": "code",
   "execution_count": null,
   "id": "c57b99d0-0ff4-42e6-9836-dd84a098357c",
   "metadata": {},
   "outputs": [],
   "source": [
    "df_openai.to_csv(f'openai_results.csv')"
   ]
  },
  {
   "cell_type": "markdown",
   "id": "c6393b0e-9ab4-44fa-b3c5-50445d768901",
   "metadata": {},
   "source": [
    "## Visualização dos scores"
   ]
  },
  {
   "cell_type": "code",
   "execution_count": null,
   "id": "5c1d3726-b462-418e-98e4-ef04d95369eb",
   "metadata": {},
   "outputs": [],
   "source": [
    "df_scores = pd.concat(\n",
    "    [\n",
    "        df_llama['Score'].rename('score_llama'),\n",
    "        df_openai['Score'].rename('score_openai')\n",
    "    ],\n",
    "    axis=1\n",
    ")"
   ]
  },
  {
   "cell_type": "code",
   "execution_count": null,
   "id": "775be670-9b8e-4bb1-bf77-19300304bf92",
   "metadata": {},
   "outputs": [],
   "source": [
    "df_scores['veredito'] = np.where(\n",
    "    df_scores['score_llama'] >= df_scores['score_openai'],\n",
    "    'llama',\n",
    "    'openai'\n",
    ")"
   ]
  },
  {
   "cell_type": "code",
   "execution_count": null,
   "id": "1b0c7fd2-ef4d-4386-a51c-6359256f7cf4",
   "metadata": {},
   "outputs": [],
   "source": [
    "display(df_scores)"
   ]
  }
 ],
 "metadata": {
  "kernelspec": {
   "display_name": "Python 3 (ipykernel)",
   "language": "python",
   "name": "python3"
  },
  "language_info": {
   "codemirror_mode": {
    "name": "ipython",
    "version": 3
   },
   "file_extension": ".py",
   "mimetype": "text/x-python",
   "name": "python",
   "nbconvert_exporter": "python",
   "pygments_lexer": "ipython3",
   "version": "3.12.7"
  }
 },
 "nbformat": 4,
 "nbformat_minor": 5
}
